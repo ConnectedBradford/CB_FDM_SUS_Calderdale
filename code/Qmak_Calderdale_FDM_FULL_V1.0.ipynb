{
 "cells": [
  {
   "cell_type": "code",
   "execution_count": 40,
   "id": "79f3661f-676d-4c14-abd3-02660031f1e2",
   "metadata": {},
   "outputs": [
    {
     "name": "stdout",
     "output_type": "stream",
     "text": [
      "[1] \"yhcr-prd-phm-bia-core.CB_FDM_SUS_Calderdale_V1\"\n"
     ]
    }
   ],
   "source": [
    "#Qmak_Calderdale_FDM_FULL_V1.0.ipynb\n",
    "##last modified 20230309 \n",
    "\n",
    "#Builds the Calderdael SUS FDM\n",
    "#Assumes that the targetdb below exists\n",
    "#Needs code to build it if it doesn't\n",
    "\n",
    "#You will need to manually amend the target dataset for this script\n",
    "\n",
    "library(bigrquery)\n",
    "library(lubridate) \n",
    "\n",
    "# Store the project ID\n",
    "project_id = \"yhcr-prd-phm-bia-core\"\n",
    "\n",
    "sourcedb <-\"yhcr-prd-phm-bia-core.CB_STAGING_DATABASE_SUS_Calderdale_FDM_Format\"\n",
    "targetdb <-'yhcr-prd-phm-bia-core.CB_FDM_SUS_Calderdale_V1'\n",
    "targetdb <-gsub(' ','',targetdb)\n",
    "print (targetdb)"
   ]
  },
  {
   "cell_type": "code",
   "execution_count": 44,
   "id": "9465f23c-da4d-40fc-b404-3a1cf1f189c4",
   "metadata": {},
   "outputs": [
    {
     "name": "stdout",
     "output_type": "stream",
     "text": [
      "[1] \"Done care site\"\n"
     ]
    }
   ],
   "source": [
    "#build care sites just for Warehouse sites\n",
    "\n",
    "#NOTE - THIS WHOLE SECTION NEEDS WORK\n",
    "\n",
    "sql1 <-paste('drop table if exists ',targetdb,'.care_site', sep = \"\")\n",
    "#sql2<- paste('drop table if exists ' ,targetdb,'.tmp_orgs', sep = \"\")\n",
    "#sql3<- paste('drop table if exists ' ,targetdb,'.tmp_orgs2', sep = \"\")\n",
    "\n",
    "#make the temp org tables \n",
    "#sql4 <-paste('create table ' ,targetdb,'.tmp_orgs as select distinct IDOrganisation from ',sourcedb,'.tbl_SRCode', sep = \"\")\n",
    "#sql5 <-paste('insert into ' ,targetdb,'.tmp_orgs select distinct IDOrganisationDoneAt from ',sourcedb,'.tbl_SRCode', sep = \"\")\n",
    "#print (sql5)\n",
    "#sql6 <-paste('insert into ' ,targetdb,'.tmp_orgs select distinct IDOrganisationRegisteredAt from ',sourcedb,'.tbl_SRCode', sep = \"\")\n",
    "#sql7 <-paste('insert into ' ,targetdb,'.tmp_orgs select distinct IDOrganisationVisibleTo from ',sourcedb,'.tbl_SRCode', sep = \"\")\n",
    "#sql8 <-paste('create table ' ,targetdb,'.tmp_orgs2 as Select distinct IDOrganisation from ' ,targetdb,'.tmp_orgs', sep = \"\")\n",
    "#sql9 <-paste('create table ' ,targetdb,'.care_site as select distinct a.* from yhcr-prd-phm-bia-core.CY_FDM_MASTER.care_site a ,',targetdb,'.tmp_orgs2 b where a.care_site_source_value = b.IDOrganisation and a.place_of_service_source_value = \\'GP practice site\\'', sep = \"\")\n",
    "sql9 <-paste('create table ' ,targetdb,'.care_site as select distinct a.* from yhcr-prd-phm-bia-core.CB_FDM_MASTER.care_site a \n",
    "              where a.care_site_id = 160710', sep = \"\")\n",
    "\n",
    "#print (sql9)\n",
    "#sql10 <-paste('delete from ' ,targetdb,'.care_site where care_site_id = 236 or care_site_id = 886' , sep = \"\")\n",
    "\n",
    "#Now Run them \n",
    "tb1 <- bq_project_query(project_id, sql1)\n",
    "#tb2 <- bq_project_query(project_id, sql2)\n",
    "#tb3 <- bq_project_query(project_id, sql3)\n",
    "#tb4 <- bq_project_query(project_id, sql4)\n",
    "#tb5 <- bq_project_query(project_id, sql5)\n",
    "#tb6 <- bq_project_query(project_id, sql6)\n",
    "#tb7 <- bq_project_query(project_id, sql7)\n",
    "#tb8 <- bq_project_query(project_id, sql8)\n",
    "tb9 <- bq_project_query(project_id, sql9)\n",
    "#tb10 <- bq_project_query(project_id, sql10)\n",
    "\n",
    "print(\"Done care site\")"
   ]
  },
  {
   "cell_type": "code",
   "execution_count": 45,
   "id": "5b8a0930-0a78-4abb-b723-8a3f02701729",
   "metadata": {},
   "outputs": [
    {
     "data": {
      "text/html": [
       "<table class=\"dataframe\">\n",
       "<caption>A tibble: 3 × 1</caption>\n",
       "<thead>\n",
       "\t<tr><th scope=col>table_name</th></tr>\n",
       "\t<tr><th scope=col>&lt;chr&gt;</th></tr>\n",
       "</thead>\n",
       "<tbody>\n",
       "\t<tr><td>tbl_SUS_Calderdale_APC_CM_20170618_To_20220731                </td></tr>\n",
       "\t<tr><td>tbl_SUS_Calderdale_EC_Backward_Compatible_20170701_To_20220731</td></tr>\n",
       "\t<tr><td>tbl_SUS_Calderdale_Outpatient_20180401_To_20220731            </td></tr>\n",
       "</tbody>\n",
       "</table>\n"
      ],
      "text/latex": [
       "A tibble: 3 × 1\n",
       "\\begin{tabular}{l}\n",
       " table\\_name\\\\\n",
       " <chr>\\\\\n",
       "\\hline\n",
       "\t tbl\\_SUS\\_Calderdale\\_APC\\_CM\\_20170618\\_To\\_20220731                \\\\\n",
       "\t tbl\\_SUS\\_Calderdale\\_EC\\_Backward\\_Compatible\\_20170701\\_To\\_20220731\\\\\n",
       "\t tbl\\_SUS\\_Calderdale\\_Outpatient\\_20180401\\_To\\_20220731            \\\\\n",
       "\\end{tabular}\n"
      ],
      "text/markdown": [
       "\n",
       "A tibble: 3 × 1\n",
       "\n",
       "| table_name &lt;chr&gt; |\n",
       "|---|\n",
       "| tbl_SUS_Calderdale_APC_CM_20170618_To_20220731                 |\n",
       "| tbl_SUS_Calderdale_EC_Backward_Compatible_20170701_To_20220731 |\n",
       "| tbl_SUS_Calderdale_Outpatient_20180401_To_20220731             |\n",
       "\n"
      ],
      "text/plain": [
       "  table_name                                                    \n",
       "1 tbl_SUS_Calderdale_APC_CM_20170618_To_20220731                \n",
       "2 tbl_SUS_Calderdale_EC_Backward_Compatible_20170701_To_20220731\n",
       "3 tbl_SUS_Calderdale_Outpatient_20180401_To_20220731            "
      ]
     },
     "metadata": {},
     "output_type": "display_data"
    },
    {
     "name": "stdout",
     "output_type": "stream",
     "text": [
      "[1] \"Done builder table\"\n"
     ]
    }
   ],
   "source": [
    "#New section to build user table loop \n",
    "\n",
    "#Your loop references this table\n",
    "#You run this to load the list of tables into the dataframe \"table\"\n",
    "\n",
    "sql3 <-paste('select distinct table_name  from ' ,sourcedb,'.INFORMATION_SCHEMA.COLUMNS where table_name like \\'tbl%\\' and column_name = \\'person_id\\' order by table_name ;', sep = \"\")\n",
    "tb3 <- bq_project_query(project_id, sql3)\n",
    "\n",
    "table <- bq_table_download(tb3)\n",
    "table \n",
    "\n",
    "print(\"Done builder table\") \n"
   ]
  },
  {
   "cell_type": "code",
   "execution_count": 46,
   "id": "63a2ff19-3f57-4477-ba7c-c4c471c795db",
   "metadata": {},
   "outputs": [
    {
     "name": "stdout",
     "output_type": "stream",
     "text": [
      "[1] \"Done tmp_persons\"\n"
     ]
    }
   ],
   "source": [
    "#This then loops through the data frame until the end\n",
    "# uses the two variables table[[i, 1]] and table[[i, 2]]\n",
    "# in the query\n",
    "\n",
    "sql4 <-paste('drop table if exists ',targetdb,'.tmp_persons;', sep = \"\")\n",
    "tb4 <-bq_project_query(project_id, sql4)\n",
    "\n",
    "\n",
    "sql5 <-paste('create table ',targetdb,'.tmp_persons \n",
    "(person_id int64);', sep = \"\")\n",
    "tb5 <-bq_project_query(project_id, sql5)\n",
    "#print(tb5)\n",
    "\n",
    "\n",
    "#Loops through all the data tables to build a list of unique person_ids from all of them \n",
    "\n",
    "for(i in 1:nrow(table)) \n",
    "{\n",
    "# for-loop over columns\n",
    "    #print(paste0(\"Table: \", table[[i, 1]]))\n",
    "    temp_sql_query  <-paste('insert into ',targetdb,'.tmp_persons select distinct cast(person_id as int64)  from ' ,sourcedb,'.',table[[i, 1]] ,';' , sep = \"\") \n",
    "    temp_queried_table <- bq_project_query(project_id, temp_sql_query)\n",
    "    temp_table <- bq_table_download(temp_queried_table)\n",
    "    #print(paste0(\"done \", temp_table[[1, 1]]))\n",
    "    #cat(\"\\n\")\n",
    "}\n",
    "print('Done tmp_persons') "
   ]
  },
  {
   "cell_type": "code",
   "execution_count": 47,
   "id": "4e46b7bc-089a-4537-922e-e56e5924502c",
   "metadata": {},
   "outputs": [
    {
     "name": "stdout",
     "output_type": "stream",
     "text": [
      "[1] \"person table built\"\n"
     ]
    }
   ],
   "source": [
    "#Now build the persons table \n",
    "\n",
    "sql11 <-paste('drop table if exists ' ,targetdb,'.person', sep = \"\")\n",
    "tb11 <- bq_project_query(project_id, sql11)\n",
    "\n",
    "\n",
    "sql12 <-paste('create table ' ,targetdb,'.person \n",
    "as \n",
    "SELECT distinct a.person_id\n",
    ", gender_concept_id\n",
    ", year_of_birth\n",
    ", month_of_birth\n",
    ", day_of_birth\n",
    ", birth_datetime\n",
    ", death_datetime\n",
    ", race_concept_id\n",
    ", ethnicity_concept_id\n",
    ", location_id\n",
    ", provider_id\n",
    ", care_site_id\n",
    ", person_source_value\n",
    ", gender_source_value\n",
    ", gender_source_concept_id\n",
    ", race_source_value\n",
    ", race_source_concept_id\n",
    ", ethnicity_source_value\n",
    ", ethnicity_source_concept_id \n",
    "FROM yhcr-prd-phm-bia-core.CB_FDM_MASTER.person a\n",
    ",',targetdb,'.tmp_persons b where a.person_id =  b.person_id' , sep = \"\")\n",
    "\n",
    "tb12 <- bq_project_query(project_id, sql12)\n",
    "#print(sql12)\n",
    "\n",
    "print (\"person table built\")"
   ]
  },
  {
   "cell_type": "code",
   "execution_count": null,
   "id": "713db6fa-d83d-4b57-b404-9935bb63f453",
   "metadata": {},
   "outputs": [],
   "source": [
    "#Ensure you have updated the lookup table ie\n",
    "#sql14 <- \"update `yhcr-prd-phm-bia-core.CY_LOOKUPS.tbl_Dataset_ExtractDateRef` set extract_date = '2023-02-07' where DatasetName = 'CB_STAGING_DATABASE_SUS_Calderdale_FDM_Format'\"  \n",
    "\n",
    "#tb14 <- bq_project_query(project_id, sql14)"
   ]
  },
  {
   "cell_type": "code",
   "execution_count": 48,
   "id": "84db12a9-0f81-43ec-b3f0-53dfaf11c926",
   "metadata": {},
   "outputs": [
    {
     "name": "stdout",
     "output_type": "stream",
     "text": [
      "[1] \" temp event dates built\"\n"
     ]
    }
   ],
   "source": [
    "\n",
    "\n",
    "#This query makes the observation period based on the persons table BUT adds in rules for this data extract.\n",
    "#This query makes the observation period based on the persons table BUT adds in rules for this data extract.\n",
    "\n",
    "#Qmak_PrimaryCareObservationPeriod_Part1\n",
    "\n",
    "sql15 <-paste('drop table if exists ' ,targetdb,'.tmp_Eventdates' , sep = \"\")\n",
    "sql16 <-paste('drop table if exists ' ,targetdb,'.tmp_EventdatesValid' , sep = \"\")\n",
    "sql17 <-paste('truncate table ' ,targetdb,'.observation_period' , sep = \"\")\n",
    "\n",
    "tb15 <-bq_project_query(project_id, sql15)\n",
    "tb16 <-bq_project_query(project_id, sql16)\n",
    "tb17 <-bq_project_query(project_id, sql17)\n",
    "\n",
    "#This just builds a temp table for later use \n",
    "sql18 <-paste('create table ',targetdb,'.tmp_Eventdates \n",
    "(person_id int64\n",
    ", EventDate Datetime) ' , sep = \"\")\n",
    "tb18 <-bq_project_query(project_id, sql18)\n",
    "\n",
    "print(\" temp event dates built\") "
   ]
  },
  {
   "cell_type": "code",
   "execution_count": 49,
   "id": "2b4121cb-958e-45eb-a699-f849ad3aedbb",
   "metadata": {},
   "outputs": [
    {
     "name": "stdout",
     "output_type": "stream",
     "text": [
      "[1] \"Done start dates\"\n"
     ]
    }
   ],
   "source": [
    "#Loop through the user tables\n",
    "#selecting person_id and date from and date to for each of them.\n",
    "\n",
    "#start_date_first\n",
    "for(i in 1:nrow(table)) \n",
    "{\n",
    "# for-loop over columns\n",
    "    #print(paste0(\"Table: \", table[[i, 1]]))\n",
    "    temp_sql_query  <-paste('insert into ',targetdb,'.tmp_Eventdates select distinct cast(person_id as int64) as person_id, ',table[[i, 1]] ,'_start_date from ' ,sourcedb,'.',table[[i, 1]] ,' where person_id is not null;' , sep = \"\") \n",
    "    temp_queried_table <- bq_project_query(project_id, temp_sql_query)\n",
    "    #temp_table <- bq_table_download(temp_queried_table)\n",
    "    #print(temp_sql_query)\n",
    "    #print(paste0(\"done \", temp_table[[i, 1]]))\n",
    "    #cat(\"\\n\")\n",
    "}\n",
    "print('Done start dates') "
   ]
  },
  {
   "cell_type": "code",
   "execution_count": 50,
   "id": "d8288873-9ebd-42dc-9c04-9435ffbfa7ef",
   "metadata": {},
   "outputs": [
    {
     "name": "stdout",
     "output_type": "stream",
     "text": [
      "[1] \"Done end dates\"\n"
     ]
    }
   ],
   "source": [
    "#Now do end date\n",
    "for(i in 1:nrow(table)) \n",
    "{\n",
    "# for-loop over columns\n",
    "    #print(paste0(\"Table: \", table[[i, 1]]))\n",
    "    temp_sql_query  <-paste('insert into ',targetdb,'.tmp_Eventdates select distinct cast(person_id as int64) as person_id, ',table[[i, 1]] ,'_end_date from ' ,sourcedb,'.',table[[i, 1]] ,' where person_id is not null ;' , sep = \"\") \n",
    "    temp_queried_table <- bq_project_query(project_id, temp_sql_query)\n",
    "    #temp_table <- bq_table_download(temp_queried_table)\n",
    "    #print(temp_sql_query)\n",
    "    #print(paste0(\"done \", temp_table[[i, 1]]))\n",
    "    #cat(\"\\n\")\n",
    "}\n",
    "print('Done end dates') "
   ]
  },
  {
   "cell_type": "code",
   "execution_count": 51,
   "id": "5d590ab2-de85-4b45-b5e5-562ebdf70a02",
   "metadata": {},
   "outputs": [
    {
     "name": "stdout",
     "output_type": "stream",
     "text": [
      "[1] \"Temp valid dates built\"\n",
      "[1] \"observation period built\"\n",
      "[1] \"invalid people removed\"\n"
     ]
    }
   ],
   "source": [
    "\n",
    "sql24 <-paste('create table ',targetdb,'.tmp_EventdatesValid\n",
    "as\n",
    "select distinct a.person_id\n",
    ",cast(a.EventDate as date) as EventDate\n",
    "from ',targetdb,'.tmp_Eventdates a ,' \n",
    ",targetdb,'.person e \n",
    "where e.person_id = a.person_id \n",
    "and e.death_datetime is not null \n",
    "and a.EventDate >= e.birth_datetime\n",
    "and a.EventDate <= date_add(e.death_datetime, INTERVAL 42 day) \n",
    "and a.EventDate <= (Select extract_date from yhcr-prd-phm-bia-core.CB_LOOKUPS.tbl_Dataset_ExtractDateRef where DatasetName = \\'CB_STAGING_DATABASE_WAREHOUSE_FDM_Format\\')', sep = \"\")\n",
    "\n",
    "\n",
    "#-- BUT this only includes persons with a death datetime\n",
    "#-- So section below includes those with a null deathdatetime\n",
    "\n",
    "sql25 <-paste('insert into ',targetdb,'.tmp_EventdatesValid\n",
    "select distinct a.person_id\n",
    ", cast(a.EventDate as date) as EventDate\n",
    "from ',targetdb,'.tmp_Eventdates a\n",
    ",' ,targetdb,'.person e \n",
    "where e.person_id = a.person_id \n",
    "and e.death_datetime is null \n",
    "and a.EventDate >= e.birth_datetime\n",
    "and a.EventDate <= (Select extract_date from yhcr-prd-phm-bia-core.CB_LOOKUPS.tbl_Dataset_ExtractDateRef where DatasetName = \\'CB_STAGING_DATABASE_WAREHOUSE_FDM_Format\\')', sep = \"\")\n",
    "\n",
    "print(\"Temp valid dates built\")\n",
    "\n",
    "#third part pushes these into the observation_period table\n",
    "\n",
    "sql26 <-paste('insert into ' ,targetdb,'.observation_period\n",
    "select distinct\n",
    "ROW_NUMBER() over (Order by person_id) as observation_period_id \n",
    ", person_id\n",
    ", min(EventDate) as observation_period_start_date\n",
    ", max(EventDate) as observation_period_end_date\n",
    ",null as period_type_concept_id\n",
    "from ',targetdb,'.tmp_EventdatesValid\n",
    "group by person_id', sep = \"\")\n",
    "\n",
    "#Finally Run these sql's\n",
    "\n",
    "\n",
    "tb24 <-bq_project_query(project_id, sql24)\n",
    "tb25 <-bq_project_query(project_id, sql25)\n",
    "tb26 <-bq_project_query(project_id, sql26)\n",
    "\n",
    "print (\"observation period built\")\n",
    "\n",
    "# Now remove from person table where there is no observation period\n",
    "# This happens where there is patient data but no actual records \n",
    "# or there is patient data but no dob \n",
    "\n",
    "sql26a <-paste(' delete from ' ,targetdb,'.person where person_id\n",
    "not in (select person_id from ', targetdb, ' . observation_period)', sep = \"\")\n",
    "\n",
    "tb26a <-bq_project_query(project_id, sql26a) \n",
    "\n",
    "print (\"invalid people removed\")\n"
   ]
  },
  {
   "cell_type": "code",
   "execution_count": 52,
   "id": "f6873ad4-1f2e-422a-bb58-b00a3e06c17a",
   "metadata": {},
   "outputs": [
    {
     "name": "stdout",
     "output_type": "stream",
     "text": [
      "[1] \"Done - user tables removed\"\n"
     ]
    }
   ],
   "source": [
    "# As the tables are all fdm ready we can just copy them into the FDM space\n",
    "# once we've dropped them - if they exist ! \n",
    "# So drop loop next \n",
    "\n",
    "#start drop them first\n",
    "for(i in 1:nrow(table)) \n",
    "{\n",
    "# for-loop over columns\n",
    "    #print(paste0(\"Table: \", table[[i, 1]]))\n",
    "    temp_sql_query  <-paste('drop table if exists ',targetdb,'.', table[[i, 1]] ,';' , sep = \"\") \n",
    "    temp_queried_table <- bq_project_query(project_id, temp_sql_query)\n",
    "    #temp_table <- bq_table_download(temp_queried_table)\n",
    "    #print(temp_sql_query)\n",
    "    #print(paste0(\"done \", temp_table[[i, 1]]))\n",
    "    #cat(\"\\n\")\n",
    "}\n",
    "print('Done - user tables removed')"
   ]
  },
  {
   "cell_type": "code",
   "execution_count": 53,
   "id": "d9f8ffe8-7b6c-4627-a8e0-70010a7b1d21",
   "metadata": {},
   "outputs": [
    {
     "name": "stdout",
     "output_type": "stream",
     "text": [
      "[1] \"Done - user tables built \"\n"
     ]
    }
   ],
   "source": [
    "#Now build them \n",
    "for(i in 1:nrow(table)) \n",
    "{\n",
    "# for-loop over columns\n",
    "    #print(paste0(\"Table: \", table[[i, 1]]))\n",
    "    temp_sql_query  <-paste('create table ',targetdb,'.',table[[i, 1]] ,' as select src.* except(digest) from ' ,sourcedb,'.',table[[i, 1]],' src \n",
    "    , ',targetdb,'.observation_period obs where cast(src.person_id as int64)  = obs.person_id \n",
    "    and src.',table[[i, 1]],'_end_date <= obs.observation_period_end_date  \n",
    "    and src.',table[[i, 1]],'_start_date >= obs.observation_period_start_date', sep = \"\")\n",
    "    #print(temp_sql_query)\n",
    "    temp_queried_table <- bq_project_query(project_id, temp_sql_query)\n",
    "    #temp_table <- bq_table_download(temp_queried_table)\n",
    "    #print(paste0(\"done \", temp_table[[i, 1]]))\n",
    "    #cat(\"\\n\")\n",
    "}\n",
    "print('Done - user tables built ')\n",
    "\n",
    "#But this only works for those tables with a tbl_prefix containing person_id \n",
    "# so we need to manually mop up the ones that don't."
   ]
  },
  {
   "cell_type": "code",
   "execution_count": 54,
   "id": "b5b4d36c-7eed-48a5-bac3-84a158e526a4",
   "metadata": {},
   "outputs": [
    {
     "name": "stdout",
     "output_type": "stream",
     "text": [
      "[1] \"Done dropping cb tables\"\n",
      "[1] \"Done building cb tables  2023-04-04 09:41:13\"\n"
     ]
    }
   ],
   "source": [
    "#Section to build non tbl_ user tables \n",
    "#these are also ones with no person_id, proper dates, or derived tables  \n",
    "\n",
    "#Your loop references these tables\n",
    "#You run this to load the list of tables into the dataframe \"table\"\n",
    "\n",
    "sql3 <-paste('select distinct table_name  from ' ,sourcedb,'.INFORMATION_SCHEMA.COLUMNS where table_name like \\'cb%\\' order by table_name ;', sep = \"\")\n",
    "tb3 <- bq_project_query(project_id, sql3)\n",
    "\n",
    "table2 <- bq_table_download(tb3)\n",
    "#table2\n",
    "\n",
    "#Drop them first\n",
    "for(i in 1:nrow(table2)) \n",
    "{\n",
    "# for-loop over columns\n",
    "    #print(paste0(\"Table: \", table2[[i, 1]]))\n",
    "    temp_sql_query  <-paste('drop table if exists ',targetdb,'.', table2[[i, 1]] ,';' , sep = \"\") \n",
    "    temp_queried_table <- bq_project_query(project_id, temp_sql_query)\n",
    "    #temp_table <- bq_table_download(temp_queried_table)\n",
    "    #print(temp_sql_query)\n",
    "    #print(paste0(\"done \", temp_table[[i, 1]]))\n",
    "    #cat(\"\\n\")\n",
    "}\n",
    "print('Done dropping cb tables')\n",
    "\n",
    "#Now build them \n",
    "for(i in 1:nrow(table2)) \n",
    "{\n",
    "# for-loop over columns\n",
    "    #print(paste0(\"Table: \", table2[[i, 1]]))\n",
    "    temp_sql_query  <-paste('create table ',targetdb,'.',table2[[i, 1]] ,' as select src.* from ' ,sourcedb,'.',table2[[i, 1]],' src', sep = \"\")\n",
    "    #print(temp_sql_query)\n",
    "    temp_queried_table <- bq_project_query(project_id, temp_sql_query)\n",
    "    #temp_table <- bq_table_download(temp_queried_table)\n",
    "    #print(paste0(\"done \", temp_table[[i, 1]]))\n",
    "    #cat(\"\\n\")\n",
    "}\n",
    "\n",
    "fred <-paste('Done building cb tables  ' ,Sys.time() + hours(1), sep = \"\")\n",
    "print (fred)\n",
    "\n",
    "#Section to build user tables with no person_id or derived tables  \n",
    "#These are specifically referenced\n"
   ]
  },
  {
   "cell_type": "code",
   "execution_count": 55,
   "id": "feb64411-2b2f-4343-b178-ca7e44e63547",
   "metadata": {},
   "outputs": [
    {
     "name": "stdout",
     "output_type": "stream",
     "text": [
      "[1] \"starting visit builders\"\n",
      "[1] \"temp visit builder table built2023-04-04 09:41:18\"\n"
     ]
    }
   ],
   "source": [
    "print (\"starting visit builders\")\n",
    "\n",
    "#VISITBuilders\n",
    "#These are added value scripts that build pseudo visit occurences tables. \n",
    "#Due to the variances of the source data it may not be possible to build generic\n",
    "#visit occurrence builders.\n",
    "\n",
    "#This is a temporary table to bring together all visit information that we may be interested in\n",
    "\n",
    "sql62 <-paste(' drop table if exists ' ,targetdb,'.tmp_visit_builder', sep = \"\")\n",
    "tb62 <-bq_project_query(project_id, sql62) \n",
    "\n",
    "#Make the tmp_visit_builder_table\n",
    "\n",
    "sql2 <-paste('create table if not exists ' ,targetdb,'.tmp_visit_builder\n",
    "( source_table string,\n",
    "  source_table_identifier string,\n",
    "  person_id int64,\n",
    "  visit_description string,\n",
    " visitstartdate datetime,\n",
    " visitenddate datetime,\n",
    " visitlocation string,\n",
    " visitstartplace string,\n",
    " visitendplace string);', sep = \"\")\n",
    "tb2 <- bq_project_query(project_id, sql2)\n",
    "eric <- paste('temp visit builder table built' ,Sys.time() + hours(1), sep = \"\")\n",
    "print (eric)"
   ]
  },
  {
   "cell_type": "code",
   "execution_count": 56,
   "id": "bd58141d-1e05-4a78-be6e-b6d0e98a4377",
   "metadata": {},
   "outputs": [
    {
     "name": "stdout",
     "output_type": "stream",
     "text": [
      "[1] \"APC_CM built2023-04-04 09:41:46\"\n"
     ]
    }
   ],
   "source": [
    "#So push into a tmp visit builder table the person_id, Event_date, \n",
    "## You need to so this for each source table manually now !\n",
    "\n",
    "#1) tbl_SUS_Calderdale_APC_CM_20170618_To_20220731\n",
    "\n",
    "sql63 <-paste(' insert into ' ,targetdb,'.tmp_visit_builder\n",
    "select \"tbl_APC_CM\" as source_table,\n",
    "pbr_spell_id as source_identifier,\n",
    "src.person_id,\n",
    "\"Admitted Care\" as description,\n",
    "tbl_SUS_Calderdale_APC_CM_20170618_To_20220731_start_date as start_date,\n",
    "tbl_SUS_Calderdale_APC_CM_20170618_To_20220731_end_date as end_date,\n",
    "\"Calderdale Royal\" as location,\n",
    "ward_code_at_episode_start_date as start_place,\n",
    "ward_code_at_episode_end_date as end_place\n",
    "FROM ' ,targetdb,'.tbl_SUS_Calderdale_APC_CM_20170618_To_20220731 src\n",
    "  , ' ,targetdb,'.person c\n",
    "  , ' ,targetdb,'.observation_period obs\n",
    "  where src.person_id = c.person_id\n",
    "  and c.person_id = obs.person_id\n",
    "  and src.tbl_SUS_Calderdale_APC_CM_20170618_To_20220731_end_date <= obs.observation_period_end_date\n",
    "  and src.tbl_SUS_Calderdale_APC_CM_20170618_To_20220731_start_date >= obs.observation_period_start_date', sep = \"\")\n",
    "\n",
    "tb63 <- bq_project_query(project_id, sql63)\n",
    "\n",
    "eric <- paste('APC_CM built',Sys.time() + hours(1), sep = \"\")\n",
    "print (eric)"
   ]
  },
  {
   "cell_type": "code",
   "execution_count": 60,
   "id": "60a7b9b7-0dc3-4a7e-ae35-38fcbd37b9ad",
   "metadata": {},
   "outputs": [
    {
     "name": "stdout",
     "output_type": "stream",
     "text": [
      "[1] \"cb_SUS_Calderdale_APC_CM_CCMDS_20170728_To_202207262023-04-04 09:43:23\"\n"
     ]
    }
   ],
   "source": [
    "#cb_SUS_Calderdale_APC_CM_CCMDS_20170728_To_20220726\n",
    "#Needs sorting to include actual person_id\n",
    "sql64 <-paste(' insert into ' ,targetdb,'.tmp_visit_builder\n",
    "SELECT \"cb_APC_CM_CCMDS\", \n",
    "generated_record_id,\n",
    "src.person_id ,\n",
    "null,\n",
    "cb_SUS_Calderdale_APC_CM_CCMDS_20170728_To_20220726_start_date,\n",
    "cb_SUS_Calderdale_APC_CM_CCMDS_20170728_To_20220726_end_date,\n",
    "null,\n",
    "null,\n",
    "null\n",
    "FROM ' ,targetdb,'.cb_SUS_Calderdale_APC_CM_CCMDS_20170728_To_20220726 src\n",
    "  , ' ,targetdb,'.person c\n",
    "  , ' ,targetdb,'.observation_period obs\n",
    "  where src.person_id   = c.person_id\n",
    "  and c.person_id = obs.person_id\n",
    " and src.cb_SUS_Calderdale_APC_CM_CCMDS_20170728_To_20220726_end_date <= obs.observation_period_end_date\n",
    " and src.cb_SUS_Calderdale_APC_CM_CCMDS_20170728_To_20220726_start_date >= obs.observation_period_start_date', sep = \"\")\n",
    "tb64 <- bq_project_query(project_id, sql64)\n",
    "\n",
    "eric <- paste('cb_SUS_Calderdale_APC_CM_CCMDS_20170728_To_20220726',Sys.time() + hours(1), sep = \"\")\n",
    "print (eric)"
   ]
  },
  {
   "cell_type": "code",
   "execution_count": 61,
   "id": "3323d584-71f4-4fd6-a6b4-0809d4863fdc",
   "metadata": {},
   "outputs": [
    {
     "name": "stdout",
     "output_type": "stream",
     "text": [
      "[1] \"tbl_SUS_Calderdale_EC_Backward_Compatible_20170701_To_20220731 built\"\n"
     ]
    }
   ],
   "source": [
    "#tbl_SUS_Calderdale_EC_Backward_Compatible_20170701_To_20220731\n",
    "\n",
    "sql65 <-paste(' insert into ' ,targetdb,'.tmp_visit_builder\n",
    "select \n",
    "\"tbl_EC Backward\" as source_table,\n",
    "generated_record_identifier as source_identifier,\n",
    "src.person_id,\n",
    "\"Accident and Emergency\" as description,\n",
    "tbl_SUS_Calderdale_EC_Backward_Compatible_20170701_To_20220731_start_date as start_date,\n",
    "tbl_SUS_Calderdale_EC_Backward_Compatible_20170701_To_20220731_end_date as end_date,\n",
    "site_code_of_treatment as location,\n",
    "null as start_place,\n",
    "null as end_place\n",
    "FROM ' ,targetdb,'.tbl_SUS_Calderdale_EC_Backward_Compatible_20170701_To_20220731 src\n",
    "  , ' ,targetdb,'.person c\n",
    "  , ' ,targetdb,'.observation_period obs\n",
    "  where cast(src.person_id as int64)  = c.person_id\n",
    "  and c.person_id = obs.person_id\n",
    "  and src.tbl_SUS_Calderdale_EC_Backward_Compatible_20170701_To_20220731_end_date <= obs.observation_period_end_date\n",
    "  and src.tbl_SUS_Calderdale_EC_Backward_Compatible_20170701_To_20220731_start_date >= obs.observation_period_start_date', sep = \"\")\n",
    "tb65 <- bq_project_query(project_id, sql65)\n",
    "\n",
    "print(\"tbl_SUS_Calderdale_EC_Backward_Compatible_20170701_To_20220731 built\")"
   ]
  },
  {
   "cell_type": "code",
   "execution_count": 62,
   "id": "ed6bed8b-620d-49f0-bc79-2ffb1b2684c1",
   "metadata": {},
   "outputs": [
    {
     "name": "stdout",
     "output_type": "stream",
     "text": [
      "[1] \"tbl_SUS_Calderdale_Outpatient_20180401_To_20220731\"\n"
     ]
    }
   ],
   "source": [
    "#tbl_SUS_Calderdale_Outpatient_20180401_To_20220731\n",
    "\n",
    "sql66 <-paste(' insert into ' ,targetdb,'.tmp_visit_builder\n",
    "SELECT \"tbl_Outpatient\" as source_table,\n",
    "generated_record_identifier as source_identifier,\n",
    "src.person_id,\n",
    "null as description,\n",
    "tbl_SUS_Calderdale_Outpatient_20180401_To_20220731_start_date as start_date,\n",
    "tbl_SUS_Calderdale_Outpatient_20180401_To_20220731_end_date as end_date,\n",
    "site_code_of_treatment as location,\n",
    "clinic_code as start_place,\n",
    "clinic_code as end_place \n",
    "FROM ' ,targetdb,'.tbl_SUS_Calderdale_Outpatient_20180401_To_20220731 src\n",
    "  , ' ,targetdb,'.person c\n",
    "  , ' ,targetdb,'.observation_period obs\n",
    "  where cast(src.person_id as int64)  = c.person_id\n",
    "  and c.person_id = obs.person_id\n",
    "  and src.tbl_SUS_Calderdale_Outpatient_20180401_To_20220731_end_date <= obs.observation_period_end_date\n",
    "  and src.tbl_SUS_Calderdale_Outpatient_20180401_To_20220731_start_date >= obs.observation_period_start_date', sep = \"\")\n",
    "tb66 <- bq_project_query(project_id, sql66)\n",
    "\n",
    "print(\"tbl_SUS_Calderdale_Outpatient_20180401_To_20220731\")\n"
   ]
  },
  {
   "cell_type": "code",
   "execution_count": 63,
   "id": "a1b99636-77e3-4180-9fb7-768f49167c57",
   "metadata": {},
   "outputs": [
    {
     "name": "stdout",
     "output_type": "stream",
     "text": [
      "[1] \"visit occurrence  built\"\n"
     ]
    }
   ],
   "source": [
    "#Qapp_Calderdale_FDM_Visit_Occurrences_ALL\n",
    "\n",
    "\n",
    "#amended to sql <-paste(' insert everything into the occurrences table \n",
    "\n",
    "sql84 <-paste(' truncate table ' ,targetdb,'.visit_occurrence ', sep = \"\")\n",
    "tb84 <- bq_project_query(project_id, sql84)\n",
    "\n",
    "sql85 <-paste(' insert into ' ,targetdb,'.visit_occurrence \n",
    "(      person_id\n",
    "      ,visit_occurrence_id\n",
    "      ,table\n",
    "      ,clinicaldataid -- the actual rowidentifier from the source table \n",
    "      ,rowid\n",
    "      ,visitstartdate\n",
    "      ,visitstartdatetime\n",
    "      ,visitenddate\n",
    "      ,visitenddatetime\n",
    "      ,visitstartplace\n",
    "      ,visitendplace\n",
    "      ,visitlocation\n",
    "      ,care_site_id\n",
    "      ,visitprovider\n",
    "      ,provider_id\n",
    "      ,visitdesc\n",
    "      ,visit_source_concept_id\n",
    ")\n",
    "select distinct person_id\n",
    "      ,FARM_FINGERPRINT(person_id || source_table_identifier)     as visit_occurrence_id\n",
    "      ,source_table\n",
    "      ,source_table_identifier  as clinicaldataid \n",
    "      ,source_table_identifier  as rowid\n",
    "      ,cast(visitstartdate as date) as visitstartdate\n",
    "      ,visitstartdate  as visitstartdatetime\n",
    "      ,cast(visitenddate as date)  as visitenddate\n",
    "      ,visitenddate as visitenddatetime\n",
    "      ,visitstartplace as visitstartplace\n",
    "      ,visitendplace  as visitendplace\n",
    "      ,visitlocation  as visitlocation\n",
    "      ,null  as care_site_id\n",
    "      ,\"null\" as visitprovider\n",
    "      ,null as provider_id\n",
    "      ,visit_description as visitdesc\n",
    "      ,38004693 as visit_source_concept_id\n",
    "   from ' ,targetdb,'.tmp_visit_builder vb' , sep = \"\")\n",
    "\n",
    "tb85 <- bq_project_query(project_id, sql85)\n",
    "\n",
    "print (\"visit occurrence  built\")\n"
   ]
  },
  {
   "cell_type": "code",
   "execution_count": 64,
   "id": "489e9272-cab5-4998-979f-b38e04031a6c",
   "metadata": {},
   "outputs": [
    {
     "name": "stdout",
     "output_type": "stream",
     "text": [
      "[1] \"temp tables dropped\"\n"
     ]
    }
   ],
   "source": [
    "sql90 <-paste('drop table if exists ',targetdb,'.tmp_persons;', sep = \"\")\n",
    "tb90 <-bq_project_query(project_id, sql90)\n",
    "\n",
    "sql91 <-paste('drop table if exists ',targetdb,'.tmp_Eventdates;', sep = \"\")\n",
    "tb91 <-bq_project_query(project_id, sql91)\n",
    "\n",
    "sql92 <-paste('drop table if exists ',targetdb,'.tmp_EventdatesValid;', sep = \"\")\n",
    "tb92 <-bq_project_query(project_id, sql92)\n",
    "\n",
    "print(\"temp tables dropped\")"
   ]
  },
  {
   "cell_type": "code",
   "execution_count": 65,
   "id": "d7a5afbd-8d24-446f-9478-44426675774a",
   "metadata": {},
   "outputs": [
    {
     "name": "stdout",
     "output_type": "stream",
     "text": [
      "[1] \"FDM Build of yhcr-prd-phm-bia-core.CB_FDM_SUS_Calderdale_V1 finished\"\n"
     ]
    }
   ],
   "source": [
    "\n",
    "fred <-paste('FDM Build of',targetdb,'finished')\n",
    "print (fred)"
   ]
  }
 ],
 "metadata": {
  "environment": {
   "kernel": "ir",
   "name": "r-cpu.4-1.m90",
   "type": "gcloud",
   "uri": "gcr.io/deeplearning-platform-release/r-cpu.4-1:m90"
  },
  "kernelspec": {
   "display_name": "R",
   "language": "R",
   "name": "ir"
  },
  "language_info": {
   "codemirror_mode": "r",
   "file_extension": ".r",
   "mimetype": "text/x-r-source",
   "name": "R",
   "pygments_lexer": "r",
   "version": "4.1.1"
  }
 },
 "nbformat": 4,
 "nbformat_minor": 5
}
